{
  "nbformat": 4,
  "nbformat_minor": 0,
  "metadata": {
    "colab": {
      "name": "Projeto CN.ipynb",
      "provenance": [],
      "collapsed_sections": [
        "m8Nxjak0kr4I",
        "bQ5TS50VreVM",
        "fm-S7lQc1Ug5",
        "BQCbedBb4dY3",
        "KaWhrnIeId8W"
      ],
      "authorship_tag": "ABX9TyPQgguHPEikkuni+e+03WF8",
      "include_colab_link": true
    },
    "kernelspec": {
      "name": "python3",
      "display_name": "Python 3"
    },
    "language_info": {
      "name": "python"
    }
  },
  "cells": [
    {
      "cell_type": "markdown",
      "metadata": {
        "id": "view-in-github",
        "colab_type": "text"
      },
      "source": [
        "<a href=\"https://colab.research.google.com/github/Raffae2679/Convertedor-de-Bases/blob/main/Projeto_CN.ipynb\" target=\"_parent\"><img src=\"https://colab.research.google.com/assets/colab-badge.svg\" alt=\"Open In Colab\"/></a>"
      ]
    },
    {
      "cell_type": "markdown",
      "metadata": {
        "id": "m8Nxjak0kr4I"
      },
      "source": [
        "## Funções de Conversão\n",
        "\n",
        "- **conv_any_to_b10**: Recebe um número e sua base, depois é convertido para base 10. Números reais devem ser inseridos usando virgula e como string (ex: \"2,5\").\n",
        "\n",
        "    ![imagem_2021-06-30_212426.png](data:image/png;base64,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)\n",
        "\n",
        "- **conv_b10_to_any**: Recebe um número de base 10 e converter para a base desejada. Os números reais devem ser inseridos usando ponto (ex: 2.5).\n",
        "\n",
        "- **conv_any_to_any**: Recebe uma string que representa um número de base qualquer, a base do respectivo número e a base para qual será convertida.\n"
      ]
    },
    {
      "cell_type": "code",
      "metadata": {
        "id": "6U9KLpSp33hy"
      },
      "source": [
        "def conv_any_to_b10(num,base):\n",
        "  ''' Converte números de qualquer base para base 10 '''\n",
        "  \n",
        "  hex = {'A':'10','B':'11','C':'12','D':'13','E':'14','F':'15'}\n",
        "\n",
        "  num_int,num_dec = separa_num(num) # ex: 23,5 => 23 | 5\n",
        "\n",
        "  tam = len(num_int)-1\n",
        "  valor = 0\n",
        "\n",
        "  for i in num_int:\n",
        "\n",
        "    if i in hex:\n",
        "      valor += int(hex[i])*(base**tam)\n",
        "    else:\n",
        "      valor += int(i)*(base**tam)\n",
        "\n",
        "    tam -= 1\n",
        "  \n",
        "  if num_dec == 0:     # A função separa_num atribui zero a num_dec quando o número é inteiro\n",
        "    return int(valor)\n",
        "  \n",
        "  else:\n",
        "    tam = len(num_dec)-1\n",
        "    valor2 = 0\n",
        "\n",
        "    for i in num_dec:\n",
        "      valor2 += int(i)*(base**tam)\n",
        "      tam -= 1   \n",
        "\n",
        "    valor2 = float(valor2/10**len(str(valor2)))  # Transforma o a 2° parte em decimal\n",
        "    \n",
        "\n",
        " \n",
        "  return valor+ valor2\n",
        "\n",
        "\n"
      ],
      "execution_count": null,
      "outputs": []
    },
    {
      "cell_type": "code",
      "metadata": {
        "id": "aftQtRcyke4_"
      },
      "source": [
        "def conv_b10_to_any(num,base):\n",
        "\n",
        "  hex = {'10':'A','11':'B','12':'C','13':'D','14':'E','15':'F'}\n",
        "  \n",
        "  if float(num)<1:\n",
        "    return conv_real_to_any(num,base)\n",
        "  \n",
        "  else:\n",
        "    n_final = \"\"\n",
        "    n_inicial = float(num)\n",
        "    base = int(base)\n",
        "  \n",
        "    while num !=0:\n",
        "      resto = int(num%base)\n",
        "      num = int(num/base)\n",
        "      \n",
        "      if str(resto) in hex:\n",
        "        n_final += hex[str(resto)]\n",
        "      else:\n",
        "        n_final += str(resto)\n",
        "\n",
        "    if (n_inicial-int(n_inicial))!=0:\n",
        "      dec_part = n_inicial-int(n_inicial)\n",
        "      \n",
        "      dec_part_conv = conv_real_to_any(dec_part,base)\n",
        "\n",
        "      return f'{n_final[::-1]},{dec_part_conv}'\n",
        "    \n",
        "    if base in [12,16]:\n",
        "      return n_final[::-1]\n",
        "    else:\n",
        "      return int(n_final[::-1])"
      ],
      "execution_count": null,
      "outputs": []
    },
    {
      "cell_type": "code",
      "metadata": {
        "id": "1oJSR9Lbg0RB"
      },
      "source": [
        "def conv_any_to_any(num,b,b_out):\n",
        "  num_b10 = conv_any_to_b10(num,b)\n",
        "  \n",
        "  return conv_b10_to_any(num_b10,b_out)\n",
        "\n"
      ],
      "execution_count": null,
      "outputs": []
    },
    {
      "cell_type": "markdown",
      "metadata": {
        "id": "bQ5TS50VreVM"
      },
      "source": [
        "## Funções Auxiliares\n",
        "\n",
        "- **separa_num**: Recebe um número número real e retorna em duas váriaveis a parte inteira e decimal. Ex: 50,30 =>  retorno 50 e 30 \n",
        "\n",
        "- **conv_real_to_any**: Recebe um número decimal e a base para qual será convertido. Essa função auxilia na função de conversão b10_to_any, sendo responsável por converter o número decimal (Usando algoritmo de divisão euclides).  \n",
        "\n",
        "    ![imagem_2021-06-30_212634.png](data:image/png;base64,iVBORw0KGgoAAAANSUhEUgAAAF8AAAAVCAYAAAAgjzL/AAAExUlEQVRoge2YaUxUVxiGn1kEiqOMFUQLEYcqlaCIgAvKUlBUbKupxca6pDaRxmIlamNF/7T6gzYuxaAU06i1iUUhsSVTt6qtwyAI1gK1qBAUguOCgjhMwTLXO3f6AxKnuDIMnUB9kpvc3Jz7nfe85z3nLjKTyWTlBU5B7mwB/2demO9EXpjvRPqO+dJtzh1II/nteBZmVCA6W89z0HfMl3szcU4Q5rJrDBrlj7ILt5qvV1PX2mPKnkjfMR8QLhRTZg0jarJ7F+6yUJuzlX0VQo/pehIONF96zFkP8kgnItW6QurHRhPp0bVSViSc8b7dldX5WKQ7ejIz9Vh9huFirEOv/QGP1BKy3uzvCH2dMFOj3c7eSx68qjbzd6uBk2e9Sc1eyyTlDXT6akbFhFCzM5lV2kLO13gwb3s2W+f4dj9lkpGqX7LJ+PJryiZmciDmJEkr90PyEY6uDrLLyG6ZL17NJWV5DiO/+I414SrMp1exY8cY1kd0Nt5I/lep7C2//4yEyXALWkza2ng8H3HLSHH6MjZcTOTbXQvwU7aSu2gk513TCXABGvUUVHjjE1JAXUIauR9bOPRBGMu3fU/SG+sIVHRnpIBczWuxUbyyaQtNAyvJuRnHqtVK6oKH2j2x9psvVpCxfB2V8YfJCFcBEk1XajCNmUHUoM6N1cSs2UWM3Z1J3NGmkvSNmk36d/FTAkIFf1bKCU9+HQ+gpUhPSauVhKlLWDROjRwzXi+7I6uTIbOpZK4r5lR5PQ+sD2vfqrrJVflP5N16OEMy5RCC46agsXl8SA0lnKtVI5hUzP80Do0izu4RQTf2/CbtNjIrJ7L0/cD2GZQMaLVl+EZMxcfRj3GxlKy0Hxm4KIW3vNqLtxYeJM8QxOuxXsgx87vuLPdDlpCS0JFE8RL64gY0UbH426TeanlAW1vbvw5BtGARzJ2uCzYT1I6pQEep4E7EvEQ03V1J2J38NoqOn8Y0bj3xHWY0n8lid7E7k1MCH1PUiD49lT1l9m074oWjHLviQ9z00e21xSr2Z+RxM2AZ04YrQPwDXWEjoUsSGaUAkGg8nEl20yw2JofhYtODm38U7/jb9mnh8o3T3ItMZMEk25aduU+RrgRh/EoWh7o+dRTPi53mt9LY2IJSNYCX5CAafian5B6ubiFM8CvnxG8jmT7B02ZZqYlevYtoO0VamhoxWuUo5IDUQMG+o1QJEiNiphGgBEt1PgW1fkRG+KIALNfz2LC5lvlZOcwf5qBlKJSRX9RC+IdzGeGA1IPd246aKTMjcft1E4nvJfHJITkzJ6hottRyQmtkdKinQz8gXENnM3uEgT3LZpO4NB3DeF+aK/szNTYEF8DaokA1tB93q3QcObiTz7eUEpV1iI1xjtMhVuo4c3scsxIc8ObUgcz+X8oiRkMNd1180Hj3Ry41U9+gYIi3qme+3NoaqDGYGazxpd+pFYxfYWZz+W7mDnio557hOsLg4Xi7d0WBhcvbPiI3ciefPXXbcTzdMN9ZmMlfE8biWxsoP7CQwQ6o2FZ7kWueQQQMeHZbR9Lrfi8IhsPsP16PZmwwjvLKTfPfGw+9LPnS7VKO6av5y2JFJuuHR2A0M4K9el+COuhV5vc1emto+gT/ACVnzBcwK2RoAAAAAElFTkSuQmCC)"
      ]
    },
    {
      "cell_type": "code",
      "metadata": {
        "id": "oLMnidbY8y7Q"
      },
      "source": [
        "def separa_num(num):\n",
        "  sep = num.split(',')\n",
        "  num_int = sep[0]\n",
        "  num_dec = sep[1] if len(sep)==2 else 0\n",
        "  \n",
        "\n",
        "  return num_int,num_dec\n",
        "\n"
      ],
      "execution_count": null,
      "outputs": []
    },
    {
      "cell_type": "code",
      "metadata": {
        "id": "XEYjTHcDkor_"
      },
      "source": [
        "def conv_real_to_any(num,base):\n",
        "  '''Realiza conversão de números reais b10 (ex: 0.45) para um número de base qualquer'''\n",
        "\n",
        "  num = float(num)\n",
        "  base = int(base)\n",
        "  p_inteira = 0\n",
        "  resto_val = \"\"\n",
        "  cont = num\n",
        "  cont2 =  round(float(num*base)-int(num*base),2)\n",
        "  c=0\n",
        "\n",
        "\n",
        "  while num!=0:\n",
        "    \n",
        "    p_inteira = int(num*base)\n",
        "    resto_val += str(p_inteira)\n",
        "    num = round(float(num*base)-p_inteira,2)\n",
        "    \n",
        "    \n",
        "    \n",
        "\n",
        "    if num == cont:\n",
        "      p_inteira = int(num*base)\n",
        "      resto_val += str(p_inteira)\n",
        "      num = round(float(num*base)-p_inteira,1)\n",
        "      \n",
        "      return resto_val\n",
        "    \n",
        "    if num==cont2 and c!=0:\n",
        "      p_inteira = int(num*base)\n",
        "      resto_val += str(p_inteira)\n",
        "      num = round(float(num*base)-p_inteira,1)\n",
        "\n",
        "      return resto_val\n",
        "    \n",
        "    c = c+1\n",
        "\n",
        "\n",
        "  return resto_val\n"
      ],
      "execution_count": null,
      "outputs": []
    },
    {
      "cell_type": "markdown",
      "metadata": {
        "id": "fm-S7lQc1Ug5"
      },
      "source": [
        "## Funções de Operações Aritméticas\n",
        "\n",
        "- **soma**: Recebe dois números e a base a qual eles pertencem, por fim ela retorna a soma desses números na sua base de origem. É feito a conversão para a base 10 que serve de ponte e por fim é reconvertido para a base original.\n",
        "\n",
        "- **prod**: Recebe dois números e a base a qual eles pertencem, por fim ela retorna a multiplicação desses números na sua base de origem. É feito a conversão para a base 10 que serve de ponte e por fim é reconvertido para a base original.\n"
      ]
    },
    {
      "cell_type": "code",
      "metadata": {
        "id": "kZvi6dnu2PWe"
      },
      "source": [
        "def soma(num,num2,b):\n",
        "  num_r = conv_any_to_b10(num,b)\n",
        "  num_r2 = conv_any_to_b10(num2,b)\n",
        "\n",
        "  resul = conv_b10_to_any(num_r+num_r2,b)\n",
        "\n",
        "  return resul\n",
        "\n",
        "def prod(num,num2,b):\n",
        "  num_r = conv_any_to_b10(num,b)\n",
        "  num_r2 = conv_any_to_b10(num2,b)\n",
        "\n",
        "  resul = conv_b10_to_any(num_r*num_r2,b)\n",
        "\n",
        "  return resul"
      ],
      "execution_count": null,
      "outputs": []
    },
    {
      "cell_type": "markdown",
      "metadata": {
        "id": "BQCbedBb4dY3"
      },
      "source": [
        "## Testes de Conversão e Operações Aritméticas\n",
        "\n",
        "Exemplos retirados do arquivo \"Computação Númerica - Notas de Aula\"\n",
        "\n"
      ]
    },
    {
      "cell_type": "code",
      "metadata": {
        "colab": {
          "base_uri": "https://localhost:8080/"
        },
        "id": "Ihrlv12A4k9y",
        "outputId": "486a8d8e-a8a5-4211-9e7c-460bf13eb3ec"
      },
      "source": [
        "print(\"1011 b2 = {} b10\".format(conv_any_to_b10(\"1011\",2)))\n",
        "print(\"------\")\n",
        "print(\"0.7 b10 = {} b2\".format(conv_b10_to_any(0.7,2)))\n",
        "print(\"------\")\n",
        "print(\"0.53 b10 = {} b4\".format(conv_b10_to_any(0.53,4)))\n",
        "print(\"------\")\n",
        "print(\"11000101,101 b2 = {} b10\".format(conv_any_to_b10(\"11000101,101\",2)))\n",
        "print(\"------\")\n",
        "print(\"110100,001111 b2 = {} b10\".format(conv_any_to_b10(\"110100,001111\",2)))\n",
        "print(\"------\")\n",
        "print(\"274 b10 = {} b3\".format(conv_b10_to_any(274,3)))\n",
        "print(\"------\")\n",
        "print(\"53 b10 = {} b2\".format(conv_b10_to_any(53,2)))\n",
        "print(\"------\")\n",
        "print(\"53 b10 = {} b2\".format(conv_b10_to_any(53,3)))\n",
        "print(\"------\")\n",
        "print(\"0.7 b10 = {} b3\".format(conv_b10_to_any(0.7,3)))\n",
        "print(\"------\")\n",
        "print(\"89A b12 = {} b10\".format(conv_any_to_b10(\"89A\",12)))\n",
        "print(\"------\")\n",
        "print(\"89A b16 = {} b10\".format(conv_any_to_b10(\"89A\",16)))\n",
        "print(\"------\")\n",
        "print(\"Converter 89A b16 para b2\\n89A b16 ({} b10) = {} b2 ({} b10)\".format(conv_any_to_b10(\"89A\",16),conv_any_to_any(\"89A\",16,2), conv_any_to_b10(str(conv_any_to_any(\"89A\",16,2)),2) ))\n"
      ],
      "execution_count": null,
      "outputs": [
        {
          "output_type": "stream",
          "text": [
            "1011 b2 = 11 b10\n",
            "------\n",
            "0.7 b10 = 101100 b2\n",
            "------\n",
            "0.53 b10 = 201322320110 b4\n",
            "------\n",
            "197\n",
            "11000101,101 b2 = 197.5 b10\n",
            "------\n",
            "52\n",
            "110100,001111 b2 = 52.15 b10\n",
            "------\n",
            "274 b10 = 101011 b3\n",
            "------\n",
            "53 b10 = 110101 b2\n",
            "------\n",
            "53 b10 = 1222 b2\n",
            "------\n",
            "0.7 b10 = 20022 b3\n",
            "------\n",
            "89A b12 = 1270 b10\n",
            "------\n",
            "89A b16 = 2202 b10\n",
            "------\n",
            "Converter 89A b16 para b2\n",
            "89A b16 (2202 b10) = 100010011010 b2 (2202 b10)\n"
          ],
          "name": "stdout"
        }
      ]
    },
    {
      "cell_type": "code",
      "metadata": {
        "colab": {
          "base_uri": "https://localhost:8080/"
        },
        "id": "hA612KILB_PE",
        "outputId": "543da2b0-c26b-424a-c2e8-3fa2e19d0c92"
      },
      "source": [
        "print(\"1111 b2 + 1011 b2 = {} b2\".format(soma(\"1111\",\"1011\",2)))\n",
        "print(\"------\")\n",
        "print(\"1076 b8 + 2076 b8 = {} b8\".format(soma(\"1076\",\"2076\",8)))\n",
        "print(\"------\")\n",
        "print(\"3076 b16 + 5776 b16 = {} b16\".format(soma(\"3076\",\"5776\",16)))\n",
        "print(\"------\")\n",
        "print(f'100 b2 (4 b10) * 11100 b2 (28 b10) = {prod(\"100\",\"11100\",2)} b2 (112 b10)')\n",
        "print(\"------\")\n",
        "b12 = conv_any_to_b10(\"89A\",12)\n",
        "b16 = conv_any_to_b10(\"89A\",16)\n",
        "print(\"89A b12 = {} b10\".format(b12))\n",
        "print(\"89A b16 = {} b10\".format(b16))\n",
        "print(\"89A b12 + 89A b16 = {} b10\".format(soma(str(b12),str(b16),10)))"
      ],
      "execution_count": null,
      "outputs": [
        {
          "output_type": "stream",
          "text": [
            "1111 b2 + 1011 b2 = 11010 b2\n",
            "------\n",
            "1076 b8 + 2076 b8 = 3174 b8\n",
            "------\n",
            "3076 b16 + 5776 b16 = 87EC b16\n",
            "------\n",
            "100 b2 (4 b10) * 11100 b2 (28 b10) = 1110000 b2 (112 b10)\n",
            "------\n",
            "89A b12 = 1270 b10\n",
            "89A b16 = 2202 b10\n",
            "89A b12 + 89A b16 = 3472 b10\n"
          ],
          "name": "stdout"
        }
      ]
    },
    {
      "cell_type": "markdown",
      "metadata": {
        "id": "KaWhrnIeId8W"
      },
      "source": [
        "## Interface Para Execução \n",
        "\n",
        "Interface para testar as funções que foram desenvolvidas.\n"
      ]
    },
    {
      "cell_type": "code",
      "metadata": {
        "colab": {
          "base_uri": "https://localhost:8080/",
          "height": 867
        },
        "id": "kRm4W2hQHpPs",
        "outputId": "42f7ad74-796c-42ff-886c-7756475560b1"
      },
      "source": [
        "\n",
        "def menu():\n",
        "  print(\"Conversor e Calculadora\\n\\n\")\n",
        "  print(\"Escolha o que você deseja fazer:\")\n",
        "  print(\"1- Converter um número de uma base qualquer para base 10\")\n",
        "  print(\"2- Converter um número de base 10 para qualquer base\")\n",
        "  print(\"3- Converter um número de base qualquer para uma base qualquer\")\n",
        "  print(\"4- Operação de soma entre dois numeros de qualquer base\")\n",
        "  print(\"5- Operação de multiplicação entre dois números de qualquer base\")\n",
        "\n",
        "  r = input(\"\\n\\n> \")\n",
        "\n",
        "  if r not in [\"1\",\"2\",\"3\",\"4\"]:\n",
        "    print(\"Digite um número válido\")\n",
        "    menu()\n",
        "    \n",
        "  else:\n",
        "    if r == \"1\":\n",
        "      n = input(\"Digite o número:\\n > \")\n",
        "      b = int(input(\"Digite a base do número:\\n > \"))\n",
        "\n",
        "      print(f'O número {n} b{b} é igual a {conv_any_to_b10(n,b)} b10')\n",
        "\n",
        "      input(\"\")\n",
        "      menu()\n",
        "\n",
        "    elif r == \"2\":\n",
        "      n = input(\"Digite o número:\\n > \")\n",
        "      b = int(input(\"Digite a base para qual ele será convertido:\\n > \"))\n",
        "\n",
        "      print(f'O número {n} b10 é igual a {conv_b10_to_any(n,b)} b{b}')\n",
        "\n",
        "      input(\"\")\n",
        "\n",
        "    elif r == \"3\":\n",
        "      n1 = input(\"Digite o primeiro número:\\n > \")\n",
        "      b = int(input(\"Digite a base do número:\\n > \"))\n",
        "      b_out = int(input(\"Digite a base para qual será convertido:\\n > \"))\n",
        "\n",
        "      \n",
        "      print(f'{n1} b{b} = {conv_any_to_any(n1,b,b_out)} b{b_out}')\n",
        "\n",
        "      input(\"\")\n",
        "\n",
        "    elif r == \"4\":\n",
        "      n1 = input(\"Digite o primeiro número:\\n > \")\n",
        "      n2 = input(\"Digite o segundo número:\\n > \")\n",
        "      b = int(input(\"Digite a base dos números:\\n > \"))\n",
        "\n",
        "      \n",
        "\n",
        "      print(f'{n1} b{b} + {n2} b{b} = {soma(n1,n2,b)} b{b}')\n",
        "\n",
        "      input(\"\")\n",
        "    \n",
        "    else:\n",
        "      n1 = input(\"Digite o primeiro número:\\n > \")\n",
        "      n2 = input(\"Digite o segundo número:\\n > \")\n",
        "      b = int(input(\"Digite a base dos números:\\n > \"))\n",
        "\n",
        "      \n",
        "\n",
        "      print(f'{n1} b{b} * {n2} b{b} = {prod(n1,n2,b)} b{b}')\n",
        "\n",
        "      input(\"\")\n",
        "\n",
        "\n",
        "    \n",
        "\n",
        "while True:\n",
        "  menu()"
      ],
      "execution_count": null,
      "outputs": [
        {
          "output_type": "stream",
          "text": [
            "Conversor e Calculadora\n",
            "\n",
            "\n",
            "Escolha o que você deseja fazer:\n",
            "1- Converter um número de uma base qualquer para base 10\n",
            "2- Converter um número de base 10 para qualquer base\n",
            "3- Converter um número de base qualquer para uma base qualquer\n",
            "4- Operação de soma entre dois numeros de qualquer base\n",
            "5- Operação de multiplicação entre dois números de qualquer base\n",
            "\n",
            "\n",
            "> 3\n",
            "Digite o primeiro número:\n",
            " > 10,5\n",
            "Digite a base do número:\n",
            " > 10\n",
            "Digite a base para qual será convertido:\n",
            " > 16\n",
            "10\n",
            "10,5 b10 = A,8 b16\n"
          ],
          "name": "stdout"
        },
        {
          "output_type": "error",
          "ename": "KeyboardInterrupt",
          "evalue": "ignored",
          "traceback": [
            "\u001b[0;31m---------------------------------------------------------------------------\u001b[0m",
            "\u001b[0;31mKeyboardInterrupt\u001b[0m                         Traceback (most recent call last)",
            "\u001b[0;32m/usr/local/lib/python3.7/dist-packages/ipykernel/kernelbase.py\u001b[0m in \u001b[0;36m_input_request\u001b[0;34m(self, prompt, ident, parent, password)\u001b[0m\n\u001b[1;32m    728\u001b[0m             \u001b[0;32mtry\u001b[0m\u001b[0;34m:\u001b[0m\u001b[0;34m\u001b[0m\u001b[0;34m\u001b[0m\u001b[0m\n\u001b[0;32m--> 729\u001b[0;31m                 \u001b[0mident\u001b[0m\u001b[0;34m,\u001b[0m \u001b[0mreply\u001b[0m \u001b[0;34m=\u001b[0m \u001b[0mself\u001b[0m\u001b[0;34m.\u001b[0m\u001b[0msession\u001b[0m\u001b[0;34m.\u001b[0m\u001b[0mrecv\u001b[0m\u001b[0;34m(\u001b[0m\u001b[0mself\u001b[0m\u001b[0;34m.\u001b[0m\u001b[0mstdin_socket\u001b[0m\u001b[0;34m,\u001b[0m \u001b[0;36m0\u001b[0m\u001b[0;34m)\u001b[0m\u001b[0;34m\u001b[0m\u001b[0;34m\u001b[0m\u001b[0m\n\u001b[0m\u001b[1;32m    730\u001b[0m             \u001b[0;32mexcept\u001b[0m \u001b[0mException\u001b[0m\u001b[0;34m:\u001b[0m\u001b[0;34m\u001b[0m\u001b[0;34m\u001b[0m\u001b[0m\n",
            "\u001b[0;32m/usr/local/lib/python3.7/dist-packages/jupyter_client/session.py\u001b[0m in \u001b[0;36mrecv\u001b[0;34m(self, socket, mode, content, copy)\u001b[0m\n\u001b[1;32m    802\u001b[0m         \u001b[0;32mtry\u001b[0m\u001b[0;34m:\u001b[0m\u001b[0;34m\u001b[0m\u001b[0;34m\u001b[0m\u001b[0m\n\u001b[0;32m--> 803\u001b[0;31m             \u001b[0mmsg_list\u001b[0m \u001b[0;34m=\u001b[0m \u001b[0msocket\u001b[0m\u001b[0;34m.\u001b[0m\u001b[0mrecv_multipart\u001b[0m\u001b[0;34m(\u001b[0m\u001b[0mmode\u001b[0m\u001b[0;34m,\u001b[0m \u001b[0mcopy\u001b[0m\u001b[0;34m=\u001b[0m\u001b[0mcopy\u001b[0m\u001b[0;34m)\u001b[0m\u001b[0;34m\u001b[0m\u001b[0;34m\u001b[0m\u001b[0m\n\u001b[0m\u001b[1;32m    804\u001b[0m         \u001b[0;32mexcept\u001b[0m \u001b[0mzmq\u001b[0m\u001b[0;34m.\u001b[0m\u001b[0mZMQError\u001b[0m \u001b[0;32mas\u001b[0m \u001b[0me\u001b[0m\u001b[0;34m:\u001b[0m\u001b[0;34m\u001b[0m\u001b[0;34m\u001b[0m\u001b[0m\n",
            "\u001b[0;32m/usr/local/lib/python3.7/dist-packages/zmq/sugar/socket.py\u001b[0m in \u001b[0;36mrecv_multipart\u001b[0;34m(self, flags, copy, track)\u001b[0m\n\u001b[1;32m    582\u001b[0m         \"\"\"\n\u001b[0;32m--> 583\u001b[0;31m         \u001b[0mparts\u001b[0m \u001b[0;34m=\u001b[0m \u001b[0;34m[\u001b[0m\u001b[0mself\u001b[0m\u001b[0;34m.\u001b[0m\u001b[0mrecv\u001b[0m\u001b[0;34m(\u001b[0m\u001b[0mflags\u001b[0m\u001b[0;34m,\u001b[0m \u001b[0mcopy\u001b[0m\u001b[0;34m=\u001b[0m\u001b[0mcopy\u001b[0m\u001b[0;34m,\u001b[0m \u001b[0mtrack\u001b[0m\u001b[0;34m=\u001b[0m\u001b[0mtrack\u001b[0m\u001b[0;34m)\u001b[0m\u001b[0;34m]\u001b[0m\u001b[0;34m\u001b[0m\u001b[0;34m\u001b[0m\u001b[0m\n\u001b[0m\u001b[1;32m    584\u001b[0m         \u001b[0;31m# have first part already, only loop while more to receive\u001b[0m\u001b[0;34m\u001b[0m\u001b[0;34m\u001b[0m\u001b[0;34m\u001b[0m\u001b[0m\n",
            "\u001b[0;32mzmq/backend/cython/socket.pyx\u001b[0m in \u001b[0;36mzmq.backend.cython.socket.Socket.recv\u001b[0;34m()\u001b[0m\n",
            "\u001b[0;32mzmq/backend/cython/socket.pyx\u001b[0m in \u001b[0;36mzmq.backend.cython.socket.Socket.recv\u001b[0;34m()\u001b[0m\n",
            "\u001b[0;32mzmq/backend/cython/socket.pyx\u001b[0m in \u001b[0;36mzmq.backend.cython.socket._recv_copy\u001b[0;34m()\u001b[0m\n",
            "\u001b[0;32m/usr/local/lib/python3.7/dist-packages/zmq/backend/cython/checkrc.pxd\u001b[0m in \u001b[0;36mzmq.backend.cython.checkrc._check_rc\u001b[0;34m()\u001b[0m\n",
            "\u001b[0;31mKeyboardInterrupt\u001b[0m: ",
            "\nDuring handling of the above exception, another exception occurred:\n",
            "\u001b[0;31mKeyboardInterrupt\u001b[0m                         Traceback (most recent call last)",
            "\u001b[0;32m<ipython-input-27-5b1c81f3d65d>\u001b[0m in \u001b[0;36m<module>\u001b[0;34m()\u001b[0m\n\u001b[1;32m     69\u001b[0m \u001b[0;34m\u001b[0m\u001b[0m\n\u001b[1;32m     70\u001b[0m \u001b[0;32mwhile\u001b[0m \u001b[0;32mTrue\u001b[0m\u001b[0;34m:\u001b[0m\u001b[0;34m\u001b[0m\u001b[0;34m\u001b[0m\u001b[0m\n\u001b[0;32m---> 71\u001b[0;31m   \u001b[0mmenu\u001b[0m\u001b[0;34m(\u001b[0m\u001b[0;34m)\u001b[0m\u001b[0;34m\u001b[0m\u001b[0;34m\u001b[0m\u001b[0m\n\u001b[0m",
            "\u001b[0;32m<ipython-input-27-5b1c81f3d65d>\u001b[0m in \u001b[0;36mmenu\u001b[0;34m()\u001b[0m\n\u001b[1;32m     41\u001b[0m       \u001b[0mprint\u001b[0m\u001b[0;34m(\u001b[0m\u001b[0;34mf'{n1} b{b} = {conv_any_to_any(n1,b,b_out)} b{b_out}'\u001b[0m\u001b[0;34m)\u001b[0m\u001b[0;34m\u001b[0m\u001b[0;34m\u001b[0m\u001b[0m\n\u001b[1;32m     42\u001b[0m \u001b[0;34m\u001b[0m\u001b[0m\n\u001b[0;32m---> 43\u001b[0;31m       \u001b[0minput\u001b[0m\u001b[0;34m(\u001b[0m\u001b[0;34m\"\"\u001b[0m\u001b[0;34m)\u001b[0m\u001b[0;34m\u001b[0m\u001b[0;34m\u001b[0m\u001b[0m\n\u001b[0m\u001b[1;32m     44\u001b[0m \u001b[0;34m\u001b[0m\u001b[0m\n\u001b[1;32m     45\u001b[0m     \u001b[0;32melif\u001b[0m \u001b[0mr\u001b[0m \u001b[0;34m==\u001b[0m \u001b[0;34m\"4\"\u001b[0m\u001b[0;34m:\u001b[0m\u001b[0;34m\u001b[0m\u001b[0;34m\u001b[0m\u001b[0m\n",
            "\u001b[0;32m/usr/local/lib/python3.7/dist-packages/ipykernel/kernelbase.py\u001b[0m in \u001b[0;36mraw_input\u001b[0;34m(self, prompt)\u001b[0m\n\u001b[1;32m    702\u001b[0m             \u001b[0mself\u001b[0m\u001b[0;34m.\u001b[0m\u001b[0m_parent_ident\u001b[0m\u001b[0;34m,\u001b[0m\u001b[0;34m\u001b[0m\u001b[0;34m\u001b[0m\u001b[0m\n\u001b[1;32m    703\u001b[0m             \u001b[0mself\u001b[0m\u001b[0;34m.\u001b[0m\u001b[0m_parent_header\u001b[0m\u001b[0;34m,\u001b[0m\u001b[0;34m\u001b[0m\u001b[0;34m\u001b[0m\u001b[0m\n\u001b[0;32m--> 704\u001b[0;31m             \u001b[0mpassword\u001b[0m\u001b[0;34m=\u001b[0m\u001b[0;32mFalse\u001b[0m\u001b[0;34m,\u001b[0m\u001b[0;34m\u001b[0m\u001b[0;34m\u001b[0m\u001b[0m\n\u001b[0m\u001b[1;32m    705\u001b[0m         )\n\u001b[1;32m    706\u001b[0m \u001b[0;34m\u001b[0m\u001b[0m\n",
            "\u001b[0;32m/usr/local/lib/python3.7/dist-packages/ipykernel/kernelbase.py\u001b[0m in \u001b[0;36m_input_request\u001b[0;34m(self, prompt, ident, parent, password)\u001b[0m\n\u001b[1;32m    732\u001b[0m             \u001b[0;32mexcept\u001b[0m \u001b[0mKeyboardInterrupt\u001b[0m\u001b[0;34m:\u001b[0m\u001b[0;34m\u001b[0m\u001b[0;34m\u001b[0m\u001b[0m\n\u001b[1;32m    733\u001b[0m                 \u001b[0;31m# re-raise KeyboardInterrupt, to truncate traceback\u001b[0m\u001b[0;34m\u001b[0m\u001b[0;34m\u001b[0m\u001b[0;34m\u001b[0m\u001b[0m\n\u001b[0;32m--> 734\u001b[0;31m                 \u001b[0;32mraise\u001b[0m \u001b[0mKeyboardInterrupt\u001b[0m\u001b[0;34m\u001b[0m\u001b[0;34m\u001b[0m\u001b[0m\n\u001b[0m\u001b[1;32m    735\u001b[0m             \u001b[0;32melse\u001b[0m\u001b[0;34m:\u001b[0m\u001b[0;34m\u001b[0m\u001b[0;34m\u001b[0m\u001b[0m\n\u001b[1;32m    736\u001b[0m                 \u001b[0;32mbreak\u001b[0m\u001b[0;34m\u001b[0m\u001b[0;34m\u001b[0m\u001b[0m\n",
            "\u001b[0;31mKeyboardInterrupt\u001b[0m: "
          ]
        }
      ]
    }
  ]
}